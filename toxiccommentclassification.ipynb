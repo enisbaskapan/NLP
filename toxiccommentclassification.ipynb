{
 "cells": [
  {
   "cell_type": "code",
   "execution_count": 1,
   "metadata": {
    "execution": {
     "iopub.execute_input": "2022-10-02T20:14:21.920609Z",
     "iopub.status.busy": "2022-10-02T20:14:21.920055Z",
     "iopub.status.idle": "2022-10-02T20:14:27.277672Z",
     "shell.execute_reply": "2022-10-02T20:14:27.276448Z",
     "shell.execute_reply.started": "2022-10-02T20:14:21.920490Z"
    }
   },
   "outputs": [],
   "source": [
    "import pandas as pd\n",
    "import numpy as np\n",
    "import tensorflow as tf\n",
    "from tensorflow.keras import models, layers"
   ]
  },
  {
   "cell_type": "markdown",
   "metadata": {},
   "source": [
    "# Load Data"
   ]
  },
  {
   "cell_type": "code",
   "execution_count": 2,
   "metadata": {
    "execution": {
     "iopub.execute_input": "2022-10-02T20:14:27.283722Z",
     "iopub.status.busy": "2022-10-02T20:14:27.282832Z",
     "iopub.status.idle": "2022-10-02T20:14:29.472139Z",
     "shell.execute_reply": "2022-10-02T20:14:29.471097Z",
     "shell.execute_reply.started": "2022-10-02T20:14:27.283678Z"
    }
   },
   "outputs": [],
   "source": [
    "df = pd.read_csv('../input/jigsaw-toxic-comment-classification-challenge/train.csv.zip')"
   ]
  },
  {
   "cell_type": "code",
   "execution_count": 3,
   "metadata": {
    "execution": {
     "iopub.execute_input": "2022-10-02T20:14:29.473881Z",
     "iopub.status.busy": "2022-10-02T20:14:29.473417Z",
     "iopub.status.idle": "2022-10-02T20:14:29.495325Z",
     "shell.execute_reply": "2022-10-02T20:14:29.494384Z",
     "shell.execute_reply.started": "2022-10-02T20:14:29.473843Z"
    }
   },
   "outputs": [
    {
     "data": {
      "text/html": [
       "<div>\n",
       "<style scoped>\n",
       "    .dataframe tbody tr th:only-of-type {\n",
       "        vertical-align: middle;\n",
       "    }\n",
       "\n",
       "    .dataframe tbody tr th {\n",
       "        vertical-align: top;\n",
       "    }\n",
       "\n",
       "    .dataframe thead th {\n",
       "        text-align: right;\n",
       "    }\n",
       "</style>\n",
       "<table border=\"1\" class=\"dataframe\">\n",
       "  <thead>\n",
       "    <tr style=\"text-align: right;\">\n",
       "      <th></th>\n",
       "      <th>id</th>\n",
       "      <th>comment_text</th>\n",
       "      <th>toxic</th>\n",
       "      <th>severe_toxic</th>\n",
       "      <th>obscene</th>\n",
       "      <th>threat</th>\n",
       "      <th>insult</th>\n",
       "      <th>identity_hate</th>\n",
       "    </tr>\n",
       "  </thead>\n",
       "  <tbody>\n",
       "    <tr>\n",
       "      <th>0</th>\n",
       "      <td>0000997932d777bf</td>\n",
       "      <td>Explanation\\nWhy the edits made under my usern...</td>\n",
       "      <td>0</td>\n",
       "      <td>0</td>\n",
       "      <td>0</td>\n",
       "      <td>0</td>\n",
       "      <td>0</td>\n",
       "      <td>0</td>\n",
       "    </tr>\n",
       "    <tr>\n",
       "      <th>1</th>\n",
       "      <td>000103f0d9cfb60f</td>\n",
       "      <td>D'aww! He matches this background colour I'm s...</td>\n",
       "      <td>0</td>\n",
       "      <td>0</td>\n",
       "      <td>0</td>\n",
       "      <td>0</td>\n",
       "      <td>0</td>\n",
       "      <td>0</td>\n",
       "    </tr>\n",
       "    <tr>\n",
       "      <th>2</th>\n",
       "      <td>000113f07ec002fd</td>\n",
       "      <td>Hey man, I'm really not trying to edit war. It...</td>\n",
       "      <td>0</td>\n",
       "      <td>0</td>\n",
       "      <td>0</td>\n",
       "      <td>0</td>\n",
       "      <td>0</td>\n",
       "      <td>0</td>\n",
       "    </tr>\n",
       "    <tr>\n",
       "      <th>3</th>\n",
       "      <td>0001b41b1c6bb37e</td>\n",
       "      <td>\"\\nMore\\nI can't make any real suggestions on ...</td>\n",
       "      <td>0</td>\n",
       "      <td>0</td>\n",
       "      <td>0</td>\n",
       "      <td>0</td>\n",
       "      <td>0</td>\n",
       "      <td>0</td>\n",
       "    </tr>\n",
       "    <tr>\n",
       "      <th>4</th>\n",
       "      <td>0001d958c54c6e35</td>\n",
       "      <td>You, sir, are my hero. Any chance you remember...</td>\n",
       "      <td>0</td>\n",
       "      <td>0</td>\n",
       "      <td>0</td>\n",
       "      <td>0</td>\n",
       "      <td>0</td>\n",
       "      <td>0</td>\n",
       "    </tr>\n",
       "  </tbody>\n",
       "</table>\n",
       "</div>"
      ],
      "text/plain": [
       "                 id                                       comment_text  toxic  \\\n",
       "0  0000997932d777bf  Explanation\\nWhy the edits made under my usern...      0   \n",
       "1  000103f0d9cfb60f  D'aww! He matches this background colour I'm s...      0   \n",
       "2  000113f07ec002fd  Hey man, I'm really not trying to edit war. It...      0   \n",
       "3  0001b41b1c6bb37e  \"\\nMore\\nI can't make any real suggestions on ...      0   \n",
       "4  0001d958c54c6e35  You, sir, are my hero. Any chance you remember...      0   \n",
       "\n",
       "   severe_toxic  obscene  threat  insult  identity_hate  \n",
       "0             0        0       0       0              0  \n",
       "1             0        0       0       0              0  \n",
       "2             0        0       0       0              0  \n",
       "3             0        0       0       0              0  \n",
       "4             0        0       0       0              0  "
      ]
     },
     "execution_count": 3,
     "metadata": {},
     "output_type": "execute_result"
    }
   ],
   "source": [
    "df.head()"
   ]
  },
  {
   "cell_type": "code",
   "execution_count": 4,
   "metadata": {
    "execution": {
     "iopub.execute_input": "2022-10-02T20:14:29.499069Z",
     "iopub.status.busy": "2022-10-02T20:14:29.498203Z",
     "iopub.status.idle": "2022-10-02T20:14:29.513710Z",
     "shell.execute_reply": "2022-10-02T20:14:29.512742Z",
     "shell.execute_reply.started": "2022-10-02T20:14:29.499034Z"
    }
   },
   "outputs": [],
   "source": [
    "X = df.comment_text\n",
    "y = np.array(df.drop(['id','comment_text'], axis=1))"
   ]
  },
  {
   "cell_type": "markdown",
   "metadata": {},
   "source": [
    "# Tokenization"
   ]
  },
  {
   "cell_type": "code",
   "execution_count": 5,
   "metadata": {
    "execution": {
     "iopub.execute_input": "2022-10-02T20:14:29.518040Z",
     "iopub.status.busy": "2022-10-02T20:14:29.517579Z",
     "iopub.status.idle": "2022-10-02T20:14:29.522732Z",
     "shell.execute_reply": "2022-10-02T20:14:29.521342Z",
     "shell.execute_reply.started": "2022-10-02T20:14:29.518014Z"
    }
   },
   "outputs": [],
   "source": [
    "MAX_FEATURES = 300000"
   ]
  },
  {
   "cell_type": "code",
   "execution_count": 6,
   "metadata": {
    "execution": {
     "iopub.execute_input": "2022-10-02T20:14:29.524800Z",
     "iopub.status.busy": "2022-10-02T20:14:29.524443Z",
     "iopub.status.idle": "2022-10-02T20:14:32.335311Z",
     "shell.execute_reply": "2022-10-02T20:14:32.334341Z",
     "shell.execute_reply.started": "2022-10-02T20:14:29.524769Z"
    }
   },
   "outputs": [
    {
     "name": "stderr",
     "output_type": "stream",
     "text": [
      "2022-10-02 20:14:29.623708: I tensorflow/stream_executor/cuda/cuda_gpu_executor.cc:937] successful NUMA node read from SysFS had negative value (-1), but there must be at least one NUMA node, so returning NUMA node zero\n",
      "2022-10-02 20:14:29.720645: I tensorflow/stream_executor/cuda/cuda_gpu_executor.cc:937] successful NUMA node read from SysFS had negative value (-1), but there must be at least one NUMA node, so returning NUMA node zero\n",
      "2022-10-02 20:14:29.721380: I tensorflow/stream_executor/cuda/cuda_gpu_executor.cc:937] successful NUMA node read from SysFS had negative value (-1), but there must be at least one NUMA node, so returning NUMA node zero\n",
      "2022-10-02 20:14:29.722990: I tensorflow/core/platform/cpu_feature_guard.cc:142] This TensorFlow binary is optimized with oneAPI Deep Neural Network Library (oneDNN) to use the following CPU instructions in performance-critical operations:  AVX2 AVX512F FMA\n",
      "To enable them in other operations, rebuild TensorFlow with the appropriate compiler flags.\n",
      "2022-10-02 20:14:29.723279: I tensorflow/stream_executor/cuda/cuda_gpu_executor.cc:937] successful NUMA node read from SysFS had negative value (-1), but there must be at least one NUMA node, so returning NUMA node zero\n",
      "2022-10-02 20:14:29.723975: I tensorflow/stream_executor/cuda/cuda_gpu_executor.cc:937] successful NUMA node read from SysFS had negative value (-1), but there must be at least one NUMA node, so returning NUMA node zero\n",
      "2022-10-02 20:14:29.724619: I tensorflow/stream_executor/cuda/cuda_gpu_executor.cc:937] successful NUMA node read from SysFS had negative value (-1), but there must be at least one NUMA node, so returning NUMA node zero\n",
      "2022-10-02 20:14:31.949361: I tensorflow/stream_executor/cuda/cuda_gpu_executor.cc:937] successful NUMA node read from SysFS had negative value (-1), but there must be at least one NUMA node, so returning NUMA node zero\n",
      "2022-10-02 20:14:31.950235: I tensorflow/stream_executor/cuda/cuda_gpu_executor.cc:937] successful NUMA node read from SysFS had negative value (-1), but there must be at least one NUMA node, so returning NUMA node zero\n",
      "2022-10-02 20:14:31.950930: I tensorflow/stream_executor/cuda/cuda_gpu_executor.cc:937] successful NUMA node read from SysFS had negative value (-1), but there must be at least one NUMA node, so returning NUMA node zero\n",
      "2022-10-02 20:14:31.951523: I tensorflow/core/common_runtime/gpu/gpu_device.cc:1510] Created device /job:localhost/replica:0/task:0/device:GPU:0 with 15401 MB memory:  -> device: 0, name: Tesla P100-PCIE-16GB, pci bus id: 0000:00:04.0, compute capability: 6.0\n"
     ]
    }
   ],
   "source": [
    "vectorizer = layers.TextVectorization(max_tokens=MAX_FEATURES,\n",
    "                               output_sequence_length=2000,\n",
    "                               output_mode='int')"
   ]
  },
  {
   "cell_type": "code",
   "execution_count": 7,
   "metadata": {
    "execution": {
     "iopub.execute_input": "2022-10-02T20:14:32.338482Z",
     "iopub.status.busy": "2022-10-02T20:14:32.338111Z",
     "iopub.status.idle": "2022-10-02T20:14:42.999017Z",
     "shell.execute_reply": "2022-10-02T20:14:42.997814Z",
     "shell.execute_reply.started": "2022-10-02T20:14:32.338447Z"
    }
   },
   "outputs": [
    {
     "name": "stderr",
     "output_type": "stream",
     "text": [
      "2022-10-02 20:14:32.496755: I tensorflow/compiler/mlir/mlir_graph_optimization_pass.cc:185] None of the MLIR Optimization Passes are enabled (registered 2)\n"
     ]
    }
   ],
   "source": [
    "vectorizer.adapt(X.values)"
   ]
  },
  {
   "cell_type": "code",
   "execution_count": 8,
   "metadata": {
    "execution": {
     "iopub.execute_input": "2022-10-02T20:14:43.000777Z",
     "iopub.status.busy": "2022-10-02T20:14:43.000381Z",
     "iopub.status.idle": "2022-10-02T20:14:50.076605Z",
     "shell.execute_reply": "2022-10-02T20:14:50.075577Z",
     "shell.execute_reply.started": "2022-10-02T20:14:43.000737Z"
    }
   },
   "outputs": [
    {
     "data": {
      "text/plain": [
       "257825"
      ]
     },
     "execution_count": 8,
     "metadata": {},
     "output_type": "execute_result"
    }
   ],
   "source": [
    "len(vectorizer.get_vocabulary())"
   ]
  },
  {
   "cell_type": "code",
   "execution_count": 10,
   "metadata": {
    "execution": {
     "iopub.execute_input": "2022-10-02T20:16:05.722041Z",
     "iopub.status.busy": "2022-10-02T20:16:05.719749Z",
     "iopub.status.idle": "2022-10-02T20:16:11.833223Z",
     "shell.execute_reply": "2022-10-02T20:16:11.832250Z",
     "shell.execute_reply.started": "2022-10-02T20:16:05.722001Z"
    }
   },
   "outputs": [
    {
     "name": "stderr",
     "output_type": "stream",
     "text": [
      "2022-10-02 20:16:10.104201: W tensorflow/core/framework/cpu_allocator_impl.cc:80] Allocation of 2553136000 exceeds 10% of free system memory.\n"
     ]
    }
   ],
   "source": [
    "vectorized_text = vectorizer(X.values)"
   ]
  },
  {
   "cell_type": "markdown",
   "metadata": {},
   "source": [
    "# Model"
   ]
  },
  {
   "cell_type": "code",
   "execution_count": 11,
   "metadata": {
    "execution": {
     "iopub.execute_input": "2022-10-02T20:16:11.836670Z",
     "iopub.status.busy": "2022-10-02T20:16:11.836193Z",
     "iopub.status.idle": "2022-10-02T20:16:12.294197Z",
     "shell.execute_reply": "2022-10-02T20:16:12.293253Z",
     "shell.execute_reply.started": "2022-10-02T20:16:11.836617Z"
    }
   },
   "outputs": [],
   "source": [
    "model = models.Sequential([\n",
    "    layers.Embedding(MAX_FEATURES+1, 32),\n",
    "    layers.Bidirectional(layers.LSTM(32, activation='tanh')),\n",
    "    layers.Dense(128, activation='relu'),\n",
    "    layers.Dense(256, activation='relu'),\n",
    "    layers.Dense(128, activation='relu'),\n",
    "    layers.Dense(6, activation='sigmoid')   \n",
    "])"
   ]
  },
  {
   "cell_type": "code",
   "execution_count": 12,
   "metadata": {
    "execution": {
     "iopub.execute_input": "2022-10-02T20:16:12.296006Z",
     "iopub.status.busy": "2022-10-02T20:16:12.295671Z",
     "iopub.status.idle": "2022-10-02T20:16:12.309834Z",
     "shell.execute_reply": "2022-10-02T20:16:12.308912Z",
     "shell.execute_reply.started": "2022-10-02T20:16:12.295971Z"
    }
   },
   "outputs": [],
   "source": [
    "model.compile(optimizer = 'adam',\n",
    "              loss = 'binary_crossentropy',\n",
    "              metrics = ['accuracy']\n",
    "             )"
   ]
  },
  {
   "cell_type": "code",
   "execution_count": 13,
   "metadata": {
    "execution": {
     "iopub.execute_input": "2022-10-02T20:16:12.312461Z",
     "iopub.status.busy": "2022-10-02T20:16:12.311910Z",
     "iopub.status.idle": "2022-10-02T20:16:12.321222Z",
     "shell.execute_reply": "2022-10-02T20:16:12.319008Z",
     "shell.execute_reply.started": "2022-10-02T20:16:12.312425Z"
    }
   },
   "outputs": [
    {
     "name": "stdout",
     "output_type": "stream",
     "text": [
      "Model: \"sequential\"\n",
      "_________________________________________________________________\n",
      "Layer (type)                 Output Shape              Param #   \n",
      "=================================================================\n",
      "embedding (Embedding)        (None, None, 32)          9600032   \n",
      "_________________________________________________________________\n",
      "bidirectional (Bidirectional (None, 64)                16640     \n",
      "_________________________________________________________________\n",
      "dense (Dense)                (None, 128)               8320      \n",
      "_________________________________________________________________\n",
      "dense_1 (Dense)              (None, 256)               33024     \n",
      "_________________________________________________________________\n",
      "dense_2 (Dense)              (None, 128)               32896     \n",
      "_________________________________________________________________\n",
      "dense_3 (Dense)              (None, 6)                 774       \n",
      "=================================================================\n",
      "Total params: 9,691,686\n",
      "Trainable params: 9,691,686\n",
      "Non-trainable params: 0\n",
      "_________________________________________________________________\n"
     ]
    }
   ],
   "source": [
    "model.summary()"
   ]
  },
  {
   "cell_type": "code",
   "execution_count": 15,
   "metadata": {
    "execution": {
     "iopub.execute_input": "2022-10-02T20:16:33.142318Z",
     "iopub.status.busy": "2022-10-02T20:16:33.141823Z",
     "iopub.status.idle": "2022-10-02T20:20:14.209245Z",
     "shell.execute_reply": "2022-10-02T20:20:14.208302Z",
     "shell.execute_reply.started": "2022-10-02T20:16:33.142278Z"
    }
   },
   "outputs": [
    {
     "name": "stderr",
     "output_type": "stream",
     "text": [
      "2022-10-02 20:16:33.806317: W tensorflow/core/framework/cpu_allocator_impl.cc:80] Allocation of 2042496000 exceeds 10% of free system memory.\n"
     ]
    },
    {
     "name": "stdout",
     "output_type": "stream",
     "text": [
      "Epoch 1/5\n"
     ]
    },
    {
     "name": "stderr",
     "output_type": "stream",
     "text": [
      "2022-10-02 20:16:38.808663: I tensorflow/stream_executor/cuda/cuda_dnn.cc:369] Loaded cuDNN version 8005\n"
     ]
    },
    {
     "name": "stdout",
     "output_type": "stream",
     "text": [
      "64/64 [==============================] - 48s 683ms/step - loss: 0.2676 - accuracy: 0.6216 - val_loss: 0.1227 - val_accuracy: 0.9941\n",
      "Epoch 2/5\n",
      "64/64 [==============================] - 43s 667ms/step - loss: 0.0854 - accuracy: 0.9941 - val_loss: 0.0625 - val_accuracy: 0.9941\n",
      "Epoch 3/5\n",
      "64/64 [==============================] - 43s 667ms/step - loss: 0.0510 - accuracy: 0.9942 - val_loss: 0.0561 - val_accuracy: 0.9941\n",
      "Epoch 4/5\n",
      "64/64 [==============================] - 43s 667ms/step - loss: 0.0417 - accuracy: 0.9942 - val_loss: 0.0571 - val_accuracy: 0.9941\n",
      "Epoch 5/5\n",
      "64/64 [==============================] - 43s 667ms/step - loss: 0.0367 - accuracy: 0.9942 - val_loss: 0.0595 - val_accuracy: 0.9941\n"
     ]
    }
   ],
   "source": [
    "result = model.fit(vectorized_text, y, epochs=5, batch_size=2000, validation_split=0.2)"
   ]
  },
  {
   "cell_type": "markdown",
   "metadata": {},
   "source": [
    "# Predict"
   ]
  },
  {
   "cell_type": "code",
   "execution_count": 30,
   "metadata": {
    "execution": {
     "iopub.execute_input": "2022-10-02T20:42:11.222696Z",
     "iopub.status.busy": "2022-10-02T20:42:11.222327Z",
     "iopub.status.idle": "2022-10-02T20:42:12.370269Z",
     "shell.execute_reply": "2022-10-02T20:42:12.369298Z",
     "shell.execute_reply.started": "2022-10-02T20:42:11.222664Z"
    }
   },
   "outputs": [],
   "source": [
    "X_test = pd.read_csv('../input/jigsaw-toxic-comment-classification-challenge/test.csv.zip')\n",
    "y_test = pd.read_csv('../input/jigsaw-toxic-comment-classification-challenge/test_labels.csv.zip')"
   ]
  },
  {
   "cell_type": "code",
   "execution_count": 31,
   "metadata": {
    "execution": {
     "iopub.execute_input": "2022-10-02T20:42:13.757393Z",
     "iopub.status.busy": "2022-10-02T20:42:13.756771Z",
     "iopub.status.idle": "2022-10-02T20:42:13.772609Z",
     "shell.execute_reply": "2022-10-02T20:42:13.771571Z",
     "shell.execute_reply.started": "2022-10-02T20:42:13.757360Z"
    }
   },
   "outputs": [],
   "source": [
    "X_test = X_test.comment_text\n",
    "y_test = np.array(y_test.drop('id', axis=1))"
   ]
  },
  {
   "cell_type": "code",
   "execution_count": 34,
   "metadata": {
    "execution": {
     "iopub.execute_input": "2022-10-02T20:42:47.878825Z",
     "iopub.status.busy": "2022-10-02T20:42:47.878445Z",
     "iopub.status.idle": "2022-10-02T20:42:52.449301Z",
     "shell.execute_reply": "2022-10-02T20:42:52.448303Z",
     "shell.execute_reply.started": "2022-10-02T20:42:47.878793Z"
    }
   },
   "outputs": [
    {
     "name": "stderr",
     "output_type": "stream",
     "text": [
      "2022-10-02 20:42:50.632434: W tensorflow/core/framework/cpu_allocator_impl.cc:80] Allocation of 2450624000 exceeds 10% of free system memory.\n"
     ]
    }
   ],
   "source": [
    "vectorized_text_test = vectorizer(X_test.values)"
   ]
  },
  {
   "cell_type": "code",
   "execution_count": 37,
   "metadata": {
    "execution": {
     "iopub.execute_input": "2022-10-02T20:45:54.079519Z",
     "iopub.status.busy": "2022-10-02T20:45:54.079078Z",
     "iopub.status.idle": "2022-10-02T20:50:16.033799Z",
     "shell.execute_reply": "2022-10-02T20:50:16.032696Z",
     "shell.execute_reply.started": "2022-10-02T20:45:54.079479Z"
    }
   },
   "outputs": [],
   "source": [
    "preds = model.predict(vectorized_text_test)"
   ]
  },
  {
   "cell_type": "code",
   "execution_count": 43,
   "metadata": {
    "execution": {
     "iopub.execute_input": "2022-10-02T20:54:04.772868Z",
     "iopub.status.busy": "2022-10-02T20:54:04.772346Z",
     "iopub.status.idle": "2022-10-02T20:54:35.843374Z",
     "shell.execute_reply": "2022-10-02T20:54:35.842327Z",
     "shell.execute_reply.started": "2022-10-02T20:54:04.772827Z"
    }
   },
   "outputs": [],
   "source": [
    "y_pred = []\n",
    "for pred in preds:\n",
    "    labels = []\n",
    "    for label in pred:\n",
    "        if label < 0.5:\n",
    "            labels.append(0)\n",
    "        else:\n",
    "            labels.append(1)\n",
    "    y_pred.append(labels)"
   ]
  },
  {
   "cell_type": "markdown",
   "metadata": {},
   "source": [
    "# Input Prediction"
   ]
  },
  {
   "cell_type": "code",
   "execution_count": 83,
   "metadata": {
    "execution": {
     "iopub.execute_input": "2022-10-02T21:12:38.799514Z",
     "iopub.status.busy": "2022-10-02T21:12:38.799155Z",
     "iopub.status.idle": "2022-10-02T21:12:38.812737Z",
     "shell.execute_reply": "2022-10-02T21:12:38.811815Z",
     "shell.execute_reply.started": "2022-10-02T21:12:38.799478Z"
    }
   },
   "outputs": [],
   "source": [
    "input_text = vectorizer('You suck go to hell')"
   ]
  },
  {
   "cell_type": "code",
   "execution_count": 84,
   "metadata": {
    "execution": {
     "iopub.execute_input": "2022-10-02T21:12:39.886495Z",
     "iopub.status.busy": "2022-10-02T21:12:39.885416Z",
     "iopub.status.idle": "2022-10-02T21:12:39.959176Z",
     "shell.execute_reply": "2022-10-02T21:12:39.958333Z",
     "shell.execute_reply.started": "2022-10-02T21:12:39.886456Z"
    }
   },
   "outputs": [],
   "source": [
    "res = model.predict(np.expand_dims(input_text, 0))\n",
    "prediction = (res > 0.5).astype(int)"
   ]
  },
  {
   "cell_type": "code",
   "execution_count": 85,
   "metadata": {
    "execution": {
     "iopub.execute_input": "2022-10-02T21:12:40.956941Z",
     "iopub.status.busy": "2022-10-02T21:12:40.956266Z",
     "iopub.status.idle": "2022-10-02T21:12:40.966916Z",
     "shell.execute_reply": "2022-10-02T21:12:40.965907Z",
     "shell.execute_reply.started": "2022-10-02T21:12:40.956903Z"
    }
   },
   "outputs": [
    {
     "data": {
      "text/html": [
       "<div>\n",
       "<style scoped>\n",
       "    .dataframe tbody tr th:only-of-type {\n",
       "        vertical-align: middle;\n",
       "    }\n",
       "\n",
       "    .dataframe tbody tr th {\n",
       "        vertical-align: top;\n",
       "    }\n",
       "\n",
       "    .dataframe thead th {\n",
       "        text-align: right;\n",
       "    }\n",
       "</style>\n",
       "<table border=\"1\" class=\"dataframe\">\n",
       "  <thead>\n",
       "    <tr style=\"text-align: right;\">\n",
       "      <th></th>\n",
       "      <th>toxic</th>\n",
       "      <th>severe_toxic</th>\n",
       "      <th>obscene</th>\n",
       "      <th>threat</th>\n",
       "      <th>insult</th>\n",
       "      <th>identity_hate</th>\n",
       "    </tr>\n",
       "  </thead>\n",
       "  <tbody>\n",
       "    <tr>\n",
       "      <th>0</th>\n",
       "      <td>1</td>\n",
       "      <td>0</td>\n",
       "      <td>1</td>\n",
       "      <td>0</td>\n",
       "      <td>1</td>\n",
       "      <td>0</td>\n",
       "    </tr>\n",
       "  </tbody>\n",
       "</table>\n",
       "</div>"
      ],
      "text/plain": [
       "   toxic  severe_toxic  obscene  threat  insult  identity_hate\n",
       "0      1             0        1       0       1              0"
      ]
     },
     "execution_count": 85,
     "metadata": {},
     "output_type": "execute_result"
    }
   ],
   "source": [
    "pd.DataFrame(prediction, columns=df.columns[2:])"
   ]
  }
 ],
 "metadata": {
  "kernelspec": {
   "display_name": "Python 3 (ipykernel)",
   "language": "python",
   "name": "python3"
  },
  "language_info": {
   "codemirror_mode": {
    "name": "ipython",
    "version": 3
   },
   "file_extension": ".py",
   "mimetype": "text/x-python",
   "name": "python",
   "nbconvert_exporter": "python",
   "pygments_lexer": "ipython3",
   "version": "3.9.12"
  }
 },
 "nbformat": 4,
 "nbformat_minor": 4
}
