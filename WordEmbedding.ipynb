{
 "cells": [
  {
   "cell_type": "code",
   "execution_count": 13,
   "id": "ae4fb006",
   "metadata": {},
   "outputs": [],
   "source": [
    "import numpy as np\n",
    "from tensorflow.keras.preprocessing.text import one_hot\n",
    "from tensorflow.keras.preprocessing.sequence import pad_sequences\n",
    "from tensorflow import keras\n",
    "from tensorflow.keras import models, layers"
   ]
  },
  {
   "cell_type": "markdown",
   "id": "c3cef1c9",
   "metadata": {},
   "source": [
    "# Supervised Embedding"
   ]
  },
  {
   "cell_type": "code",
   "execution_count": 83,
   "id": "b069bde3",
   "metadata": {},
   "outputs": [],
   "source": [
    "reviews = ['nice food',\n",
    "          'amazing restaurant',\n",
    "          'too good',\n",
    "          'just loved it!',\n",
    "          'will go again',\n",
    "          'horrible food',\n",
    "          'never go there',\n",
    "          'poor service',\n",
    "          'poor quality',\n",
    "          'needs improvement',\n",
    "          'best i had',\n",
    "          'nothing like it',\n",
    "          'truly amazing',\n",
    "          'good service',\n",
    "          'best food',\n",
    "          'tastes like shit',\n",
    "          'bad food',\n",
    "          'worst restaurant',\n",
    "          'garbage',\n",
    "          'disgusting place']\n",
    "\n",
    "sentiment = np.array([1,1,1,1,1,0,0,0,0,0,1,1,1,1,1,0,0,0,0,0])"
   ]
  },
  {
   "cell_type": "code",
   "execution_count": 86,
   "id": "7724ba0d",
   "metadata": {},
   "outputs": [
    {
     "data": {
      "text/plain": [
       "[[248, 247],\n",
       " [102, 285],\n",
       " [269, 98],\n",
       " [207, 230, 88],\n",
       " [40, 281, 140],\n",
       " [82, 247],\n",
       " [272, 281, 56],\n",
       " [153, 296],\n",
       " [153, 179],\n",
       " [288, 216],\n",
       " [87, 23, 72],\n",
       " [32, 204, 88],\n",
       " [80, 102],\n",
       " [98, 296],\n",
       " [87, 247],\n",
       " [269, 204, 53],\n",
       " [254, 247],\n",
       " [45, 285],\n",
       " [251],\n",
       " [197, 71]]"
      ]
     },
     "execution_count": 86,
     "metadata": {},
     "output_type": "execute_result"
    }
   ],
   "source": [
    "vocab_size = 300\n",
    "encoded_reviews = [one_hot(review, vocab_size) for review in reviews]\n",
    "encoded_reviews"
   ]
  },
  {
   "cell_type": "code",
   "execution_count": 1,
   "id": "9aa8225d",
   "metadata": {},
   "outputs": [],
   "source": [
    "#Max length for padding"
   ]
  },
  {
   "cell_type": "code",
   "execution_count": 87,
   "id": "80e73ba3",
   "metadata": {},
   "outputs": [],
   "source": [
    "def find_max_length(r):\n",
    "    list_len = [len(i) for i in r]\n",
    "    return max(list_len)"
   ]
  },
  {
   "cell_type": "code",
   "execution_count": 88,
   "id": "811d18d8",
   "metadata": {},
   "outputs": [
    {
     "data": {
      "text/plain": [
       "array([[248, 247,   0],\n",
       "       [102, 285,   0],\n",
       "       [269,  98,   0],\n",
       "       [207, 230,  88],\n",
       "       [ 40, 281, 140],\n",
       "       [ 82, 247,   0],\n",
       "       [272, 281,  56],\n",
       "       [153, 296,   0],\n",
       "       [153, 179,   0],\n",
       "       [288, 216,   0],\n",
       "       [ 87,  23,  72],\n",
       "       [ 32, 204,  88],\n",
       "       [ 80, 102,   0],\n",
       "       [ 98, 296,   0],\n",
       "       [ 87, 247,   0],\n",
       "       [269, 204,  53],\n",
       "       [254, 247,   0],\n",
       "       [ 45, 285,   0],\n",
       "       [251,   0,   0],\n",
       "       [197,  71,   0]])"
      ]
     },
     "execution_count": 88,
     "metadata": {},
     "output_type": "execute_result"
    }
   ],
   "source": [
    "max_length = find_max_length(encoded_reviews)\n",
    "padded_reviews = pad_sequences(encoded_reviews, maxlen=max_length, padding='post')\n",
    "padded_reviews"
   ]
  },
  {
   "cell_type": "code",
   "execution_count": 89,
   "id": "f8aed18d",
   "metadata": {},
   "outputs": [],
   "source": [
    "embedded_vector_size = 4\n",
    "\n",
    "model = models.Sequential([\n",
    "    layers.Embedding(vocab_size, embedded_vector_size, input_length=max_length, name='embedding'),\n",
    "    layers.Flatten(),\n",
    "    layers.Dense(1, activation='sigmoid')\n",
    "])"
   ]
  },
  {
   "cell_type": "code",
   "execution_count": 90,
   "id": "bd57c0e4",
   "metadata": {},
   "outputs": [],
   "source": [
    "X = padded_reviews\n",
    "y = sentiment"
   ]
  },
  {
   "cell_type": "code",
   "execution_count": 91,
   "id": "07bfe521",
   "metadata": {},
   "outputs": [
    {
     "name": "stdout",
     "output_type": "stream",
     "text": [
      "Model: \"sequential_4\"\n",
      "_________________________________________________________________\n",
      " Layer (type)                Output Shape              Param #   \n",
      "=================================================================\n",
      " embedding (Embedding)       (None, 3, 4)              1200      \n",
      "                                                                 \n",
      " flatten_4 (Flatten)         (None, 12)                0         \n",
      "                                                                 \n",
      " dense_4 (Dense)             (None, 1)                 13        \n",
      "                                                                 \n",
      "=================================================================\n",
      "Total params: 1,213\n",
      "Trainable params: 1,213\n",
      "Non-trainable params: 0\n",
      "_________________________________________________________________\n"
     ]
    }
   ],
   "source": [
    "model.compile(optimizer='adam',\n",
    "             loss='binary_crossentropy',\n",
    "             metrics=['accuracy'])\n",
    "model.summary()"
   ]
  },
  {
   "cell_type": "code",
   "execution_count": 92,
   "id": "bc7483ce",
   "metadata": {},
   "outputs": [
    {
     "data": {
      "text/plain": [
       "<keras.callbacks.History at 0x10da8bbd9a0>"
      ]
     },
     "execution_count": 92,
     "metadata": {},
     "output_type": "execute_result"
    }
   ],
   "source": [
    "model.fit(X, y, epochs=50, verbose=0)"
   ]
  },
  {
   "cell_type": "code",
   "execution_count": 93,
   "id": "8e6e492d",
   "metadata": {},
   "outputs": [
    {
     "name": "stdout",
     "output_type": "stream",
     "text": [
      "1/1 [==============================] - 0s 110ms/step - loss: 0.6220 - accuracy: 1.0000\n"
     ]
    }
   ],
   "source": [
    "loss, accuracy = model.evaluate(X, y)"
   ]
  },
  {
   "cell_type": "code",
   "execution_count": 94,
   "id": "40fb3f28",
   "metadata": {},
   "outputs": [
    {
     "data": {
      "text/plain": [
       "300"
      ]
     },
     "execution_count": 94,
     "metadata": {},
     "output_type": "execute_result"
    }
   ],
   "source": [
    "weights = model.get_layer('embedding').get_weights()[0]\n",
    "len(weights)"
   ]
  },
  {
   "cell_type": "code",
   "execution_count": 100,
   "id": "b182cd63",
   "metadata": {},
   "outputs": [
    {
     "data": {
      "text/plain": [
       "array([ 0.01060714,  0.06238991,  0.09704973, -0.04147163], dtype=float32)"
      ]
     },
     "execution_count": 100,
     "metadata": {},
     "output_type": "execute_result"
    }
   ],
   "source": [
    "weights[82]"
   ]
  },
  {
   "cell_type": "code",
   "execution_count": 99,
   "id": "432f12be",
   "metadata": {},
   "outputs": [
    {
     "data": {
      "text/plain": [
       "array([ 0.02720933,  0.01039754,  0.07972359, -0.0585075 ], dtype=float32)"
      ]
     },
     "execution_count": 99,
     "metadata": {},
     "output_type": "execute_result"
    }
   ],
   "source": [
    "weights[251]"
   ]
  },
  {
   "cell_type": "markdown",
   "id": "f1a619a5",
   "metadata": {},
   "source": [
    "# Word2Vec"
   ]
  },
  {
   "cell_type": "code",
   "execution_count": 14,
   "id": "b310d72a",
   "metadata": {},
   "outputs": [],
   "source": [
    "import gensim\n",
    "import pandas as pd"
   ]
  },
  {
   "cell_type": "code",
   "execution_count": 3,
   "id": "b3c30168",
   "metadata": {},
   "outputs": [
    {
     "data": {
      "text/html": [
       "<div>\n",
       "<style scoped>\n",
       "    .dataframe tbody tr th:only-of-type {\n",
       "        vertical-align: middle;\n",
       "    }\n",
       "\n",
       "    .dataframe tbody tr th {\n",
       "        vertical-align: top;\n",
       "    }\n",
       "\n",
       "    .dataframe thead th {\n",
       "        text-align: right;\n",
       "    }\n",
       "</style>\n",
       "<table border=\"1\" class=\"dataframe\">\n",
       "  <thead>\n",
       "    <tr style=\"text-align: right;\">\n",
       "      <th></th>\n",
       "      <th>reviewerID</th>\n",
       "      <th>asin</th>\n",
       "      <th>reviewerName</th>\n",
       "      <th>helpful</th>\n",
       "      <th>reviewText</th>\n",
       "      <th>overall</th>\n",
       "      <th>summary</th>\n",
       "      <th>unixReviewTime</th>\n",
       "      <th>reviewTime</th>\n",
       "    </tr>\n",
       "  </thead>\n",
       "  <tbody>\n",
       "    <tr>\n",
       "      <th>0</th>\n",
       "      <td>A2IBPI20UZIR0U</td>\n",
       "      <td>1384719342</td>\n",
       "      <td>cassandra tu \"Yeah, well, that's just like, u...</td>\n",
       "      <td>[0, 0]</td>\n",
       "      <td>Not much to write about here, but it does exac...</td>\n",
       "      <td>5.0</td>\n",
       "      <td>good</td>\n",
       "      <td>1393545600</td>\n",
       "      <td>02 28, 2014</td>\n",
       "    </tr>\n",
       "    <tr>\n",
       "      <th>1</th>\n",
       "      <td>A14VAT5EAX3D9S</td>\n",
       "      <td>1384719342</td>\n",
       "      <td>Jake</td>\n",
       "      <td>[13, 14]</td>\n",
       "      <td>The product does exactly as it should and is q...</td>\n",
       "      <td>5.0</td>\n",
       "      <td>Jake</td>\n",
       "      <td>1363392000</td>\n",
       "      <td>03 16, 2013</td>\n",
       "    </tr>\n",
       "    <tr>\n",
       "      <th>2</th>\n",
       "      <td>A195EZSQDW3E21</td>\n",
       "      <td>1384719342</td>\n",
       "      <td>Rick Bennette \"Rick Bennette\"</td>\n",
       "      <td>[1, 1]</td>\n",
       "      <td>The primary job of this device is to block the...</td>\n",
       "      <td>5.0</td>\n",
       "      <td>It Does The Job Well</td>\n",
       "      <td>1377648000</td>\n",
       "      <td>08 28, 2013</td>\n",
       "    </tr>\n",
       "    <tr>\n",
       "      <th>3</th>\n",
       "      <td>A2C00NNG1ZQQG2</td>\n",
       "      <td>1384719342</td>\n",
       "      <td>RustyBill \"Sunday Rocker\"</td>\n",
       "      <td>[0, 0]</td>\n",
       "      <td>Nice windscreen protects my MXL mic and preven...</td>\n",
       "      <td>5.0</td>\n",
       "      <td>GOOD WINDSCREEN FOR THE MONEY</td>\n",
       "      <td>1392336000</td>\n",
       "      <td>02 14, 2014</td>\n",
       "    </tr>\n",
       "    <tr>\n",
       "      <th>4</th>\n",
       "      <td>A94QU4C90B1AX</td>\n",
       "      <td>1384719342</td>\n",
       "      <td>SEAN MASLANKA</td>\n",
       "      <td>[0, 0]</td>\n",
       "      <td>This pop filter is great. It looks and perform...</td>\n",
       "      <td>5.0</td>\n",
       "      <td>No more pops when I record my vocals.</td>\n",
       "      <td>1392940800</td>\n",
       "      <td>02 21, 2014</td>\n",
       "    </tr>\n",
       "  </tbody>\n",
       "</table>\n",
       "</div>"
      ],
      "text/plain": [
       "       reviewerID        asin  \\\n",
       "0  A2IBPI20UZIR0U  1384719342   \n",
       "1  A14VAT5EAX3D9S  1384719342   \n",
       "2  A195EZSQDW3E21  1384719342   \n",
       "3  A2C00NNG1ZQQG2  1384719342   \n",
       "4   A94QU4C90B1AX  1384719342   \n",
       "\n",
       "                                       reviewerName   helpful  \\\n",
       "0  cassandra tu \"Yeah, well, that's just like, u...    [0, 0]   \n",
       "1                                              Jake  [13, 14]   \n",
       "2                     Rick Bennette \"Rick Bennette\"    [1, 1]   \n",
       "3                         RustyBill \"Sunday Rocker\"    [0, 0]   \n",
       "4                                     SEAN MASLANKA    [0, 0]   \n",
       "\n",
       "                                          reviewText  overall  \\\n",
       "0  Not much to write about here, but it does exac...      5.0   \n",
       "1  The product does exactly as it should and is q...      5.0   \n",
       "2  The primary job of this device is to block the...      5.0   \n",
       "3  Nice windscreen protects my MXL mic and preven...      5.0   \n",
       "4  This pop filter is great. It looks and perform...      5.0   \n",
       "\n",
       "                                 summary  unixReviewTime   reviewTime  \n",
       "0                                   good      1393545600  02 28, 2014  \n",
       "1                                   Jake      1363392000  03 16, 2013  \n",
       "2                   It Does The Job Well      1377648000  08 28, 2013  \n",
       "3          GOOD WINDSCREEN FOR THE MONEY      1392336000  02 14, 2014  \n",
       "4  No more pops when I record my vocals.      1392940800  02 21, 2014  "
      ]
     },
     "execution_count": 3,
     "metadata": {},
     "output_type": "execute_result"
    }
   ],
   "source": [
    "df = pd.read_csv('./data/Musical_instruments_reviews.csv')\n",
    "df.head()"
   ]
  },
  {
   "cell_type": "code",
   "execution_count": 4,
   "id": "0bee9607",
   "metadata": {},
   "outputs": [],
   "source": [
    "df.dropna(inplace=True)"
   ]
  },
  {
   "cell_type": "code",
   "execution_count": 5,
   "id": "785d5fdb",
   "metadata": {},
   "outputs": [
    {
     "data": {
      "text/plain": [
       "(10227, 9)"
      ]
     },
     "execution_count": 5,
     "metadata": {},
     "output_type": "execute_result"
    }
   ],
   "source": [
    "df.shape"
   ]
  },
  {
   "cell_type": "code",
   "execution_count": 6,
   "id": "3972b42a",
   "metadata": {},
   "outputs": [
    {
     "data": {
      "text/plain": [
       "0    [not, much, to, write, about, here, but, it, d...\n",
       "1    [the, product, does, exactly, as, it, should, ...\n",
       "2    [the, primary, job, of, this, device, is, to, ...\n",
       "3    [nice, windscreen, protects, my, mxl, mic, and...\n",
       "4    [this, pop, filter, is, great, it, looks, and,...\n",
       "Name: reviewText, dtype: object"
      ]
     },
     "execution_count": 6,
     "metadata": {},
     "output_type": "execute_result"
    }
   ],
   "source": [
    "reviews = df.reviewText.apply(gensim.utils.simple_preprocess)\n",
    "reviews.head()"
   ]
  },
  {
   "cell_type": "code",
   "execution_count": 7,
   "id": "32e8ebbd",
   "metadata": {},
   "outputs": [
    {
     "data": {
      "text/plain": [
       "\"Not much to write about here, but it does exactly what it's supposed to. filters out the pop sounds. now my recordings are much more crisp. it is one of the lowest prices pop filters on amazon so might as well buy it, they honestly work the same despite their pricing,\""
      ]
     },
     "execution_count": 7,
     "metadata": {},
     "output_type": "execute_result"
    }
   ],
   "source": [
    "df.reviewText[0]"
   ]
  },
  {
   "cell_type": "code",
   "execution_count": 8,
   "id": "5d4533ee",
   "metadata": {},
   "outputs": [],
   "source": [
    "model = gensim.models.Word2Vec(\n",
    "        window=5,\n",
    "        min_count=2,\n",
    "        workers=2\n",
    ")"
   ]
  },
  {
   "cell_type": "code",
   "execution_count": 9,
   "id": "41328c7e",
   "metadata": {},
   "outputs": [],
   "source": [
    "model.build_vocab(reviews, progress_per=1000)"
   ]
  },
  {
   "cell_type": "code",
   "execution_count": 10,
   "id": "52de7e0f",
   "metadata": {},
   "outputs": [
    {
     "data": {
      "text/plain": [
       "5"
      ]
     },
     "execution_count": 10,
     "metadata": {},
     "output_type": "execute_result"
    }
   ],
   "source": [
    "model.epochs"
   ]
  },
  {
   "cell_type": "code",
   "execution_count": 11,
   "id": "14d6b136",
   "metadata": {},
   "outputs": [
    {
     "data": {
      "text/plain": [
       "(3217765, 4344135)"
      ]
     },
     "execution_count": 11,
     "metadata": {},
     "output_type": "execute_result"
    }
   ],
   "source": [
    "model.train(reviews, total_examples=model.corpus_count, epochs=model.epochs)"
   ]
  },
  {
   "cell_type": "code",
   "execution_count": 129,
   "id": "062e2ef3",
   "metadata": {},
   "outputs": [],
   "source": [
    "model.save('./word2vec/amazon-product-reviews-model')"
   ]
  },
  {
   "cell_type": "code",
   "execution_count": 12,
   "id": "aa89e265",
   "metadata": {},
   "outputs": [
    {
     "data": {
      "text/plain": [
       "[('big', 0.8147752285003662),\n",
       " ('why', 0.706118643283844),\n",
       " ('guess', 0.6888792514801025),\n",
       " ('description', 0.6804072260856628),\n",
       " ('saying', 0.6750804781913757),\n",
       " ('fair', 0.6745425462722778),\n",
       " ('considering', 0.674339234828949),\n",
       " ('complaining', 0.6702887415885925),\n",
       " ('huge', 0.668746829032898),\n",
       " ('star', 0.6680545210838318)]"
      ]
     },
     "execution_count": 12,
     "metadata": {},
     "output_type": "execute_result"
    }
   ],
   "source": [
    "model.wv.most_similar('bad')"
   ]
  }
 ],
 "metadata": {
  "kernelspec": {
   "display_name": "DeepLearning",
   "language": "python",
   "name": "deeplearning"
  },
  "language_info": {
   "codemirror_mode": {
    "name": "ipython",
    "version": 3
   },
   "file_extension": ".py",
   "mimetype": "text/x-python",
   "name": "python",
   "nbconvert_exporter": "python",
   "pygments_lexer": "ipython3",
   "version": "3.9.12"
  }
 },
 "nbformat": 4,
 "nbformat_minor": 5
}
