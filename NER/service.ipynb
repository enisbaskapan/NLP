{
 "cells": [
  {
   "cell_type": "code",
   "execution_count": null,
   "id": "a45daeb6-39c0-4102-af2e-ecbfd50dd5a6",
   "metadata": {},
   "outputs": [],
   "source": [
    "import numpy as np\n",
    "import pandas as pd\n",
    "\n",
    "from calendar import day_name\n",
    "from datetime import datetime, timedelta, date"
   ]
  },
  {
   "cell_type": "code",
   "execution_count": null,
   "id": "64eebcd7-2013-4811-92a0-eb8a41f1784d",
   "metadata": {},
   "outputs": [],
   "source": [
    "import spacy"
   ]
  },
  {
   "cell_type": "code",
   "execution_count": null,
   "id": "a941b827-7c8b-4735-bbe4-f41dc6917883",
   "metadata": {},
   "outputs": [],
   "source": [
    "from requests import get\n",
    "from sqlalchemy import create_engine"
   ]
  },
  {
   "cell_type": "code",
   "execution_count": null,
   "id": "e48dbe6d-76a8-4517-aa10-3ea29d379a72",
   "metadata": {},
   "outputs": [],
   "source": [
    "database=\"ditravo\"\n",
    "host=\"dev-pg.ditravo.com\"\n",
    "user=\"postgres\"\n",
    "password=\"\"\n",
    "port=\"5432\"\n",
    "table = 'inventory.passenger_type'"
   ]
  },
  {
   "cell_type": "markdown",
   "id": "5e7a4677-a2aa-4fab-a06e-ea277bd51c7c",
   "metadata": {},
   "source": [
    "# __init__.py\n",
    "# CreateApp\n",
    "- create_extensions\n",
    "- create_swagger_ui\n",
    "- create_configuration\n",
    "- create_app\n",
    "\n",
    "# utils.py\n",
    "# Process\n",
    "- process_missing_destionation ???\n",
    "- process_stations (if length = 1 --> get default location(GPS))\n",
    "- process_year (year of the date 2022 --> 2023)\n",
    "- process_days\n",
    "- process_dates (if length = 1 --> Gidiş, if length = 0 tomorrow\n",
    "- process_passengers\n",
    "\n",
    "# Format\n",
    "- format_response_dictionary\n",
    "- format_ner_data\n",
    "- format_entities\n",
    "\n",
    "# Assemble\n",
    "- assemble_link\n",
    "\n",
    "# Apply(Assemble, Process)\n",
    "- apply_ngram_model()\n",
    "- apply_ner_model()\n",
    "- apply_lemmatization_model\n",
    "- apply()\n",
    "\n",
    "# service.py\n",
    "# Extract(Apply, Request)\n",
    "- extract_stations\n",
    "- extract_date_information\n",
    "- extract_passengers_information\n",
    "- extract\n",
    "\n",
    "# data\n",
    "# dao.py\n",
    "# Save(Format)\n",
    "- save_entities()\n",
    "- save_into_database()\n",
    "\n",
    "# request.py\n",
    "# Request\n",
    "- request_destionation_information"
   ]
  },
  {
   "cell_type": "code",
   "execution_count": null,
   "id": "10ed99f1-ed96-4747-9472-0f96d845b5aa",
   "metadata": {},
   "outputs": [],
   "source": [
    "nlp = spacy.load('en_core_web_sm')"
   ]
  },
  {
   "cell_type": "code",
   "execution_count": null,
   "id": "ce514272-66c6-4fa9-8a79-02b925aad342",
   "metadata": {},
   "outputs": [],
   "source": [
    "text = u'In September 14, Apple, Google, and Microsoft plan to expand their support for the passwordless sign-on standard\\\n",
    "         created for common use by the FIDO Alliance and the World Wide Web Consortium (W3C) in October 19, as part of\\\n",
    "         their work together to make the web more secure and convenient. announced. With the new feature,\\\n",
    "         websites and apps will be able to provide consistent, secure and easy password-free logins to \\\n",
    "         150 consumers across different devices and platforms.'"
   ]
  },
  {
   "cell_type": "code",
   "execution_count": null,
   "id": "6bdc5e76-8f85-440d-911b-e850b64c2976",
   "metadata": {},
   "outputs": [],
   "source": [
    "text"
   ]
  },
  {
   "cell_type": "code",
   "execution_count": null,
   "id": "9c278c55-077b-4bdd-a9ff-baf049c84f69",
   "metadata": {},
   "outputs": [],
   "source": [
    "document = nlp(text)"
   ]
  },
  {
   "cell_type": "code",
   "execution_count": null,
   "id": "5f023857-9324-43b8-971c-8697f24a600c",
   "metadata": {},
   "outputs": [],
   "source": [
    "nlp.pipeline"
   ]
  },
  {
   "cell_type": "code",
   "execution_count": null,
   "id": "4f6a132e-78ab-4709-9ca9-89f8bfe588d5",
   "metadata": {},
   "outputs": [],
   "source": [
    "for entity in document.ents: print(entity.text, entity.label_)"
   ]
  },
  {
   "cell_type": "code",
   "execution_count": null,
   "id": "bb1cb1f7-0ebf-4f04-a4e3-d43f183970db",
   "metadata": {},
   "outputs": [],
   "source": [
    "class Apply():\n",
    "\n",
    "    def apply_ner_model(self, text):\n",
    "        \n",
    "        document = nlp(text)\n",
    "        return document\n",
    "    \n",
    "apply = Apply()"
   ]
  },
  {
   "cell_type": "code",
   "execution_count": null,
   "id": "16912d51-9e13-42e2-b5f0-41bed477f59c",
   "metadata": {},
   "outputs": [],
   "source": [
    "document = apply.apply_ner_model(text)"
   ]
  },
  {
   "cell_type": "code",
   "execution_count": null,
   "id": "2a9018d3-b317-4d70-94ea-d2ce13c303a7",
   "metadata": {},
   "outputs": [],
   "source": [
    "class Request():\n",
    "\n",
    "    def request_stations(self):\n",
    "        stations = get('http://dev-rail.ditravo.com:8100/stations/yhtStations').json()\n",
    "        return stations\n",
    "\n",
    "request = Request()\n",
    "stations = request.request_stations()\n"
   ]
  },
  {
   "cell_type": "code",
   "execution_count": null,
   "id": "38edf479-973b-499a-a488-58f1bf742856",
   "metadata": {},
   "outputs": [],
   "source": [
    "class Format():\n",
    "\n",
    "    def format_stations(self, stations):\n",
    "\n",
    "        station_codes = {station['name'] : station['IATACode'] for station in stations}\n",
    "        return station_codes\n",
    "    \n",
    "    def format_passenger_types(self, passenger_type_df):\n",
    "\n",
    "        passenger_type_dictionary = dict(zip(passenger_type_df.name.str.lower(), passenger_type_df.code))\n",
    "        return passenger_type_dictionary\n",
    "\n",
    "    def format_response_dictionary(self, entities):\n",
    "        pass\n",
    "    \n",
    "format_ = Format()\n",
    "#station_codes = format_.format_stations(stations)\n",
    "station_codes"
   ]
  },
  {
   "cell_type": "code",
   "execution_count": null,
   "id": "72389ffe-1660-4b97-bde9-8596fb7c0baf",
   "metadata": {},
   "outputs": [],
   "source": [
    "list( station_codes.keys() )"
   ]
  },
  {
   "cell_type": "code",
   "execution_count": null,
   "id": "3590bd8d-8323-4665-96c2-8ad3e213db62",
   "metadata": {},
   "outputs": [],
   "source": [
    "station_codes = {'Söğütlüçeşme': 'SGTC',\n",
    " 'Pendik': 'PNDK',\n",
    " 'Eskişehir': 'ESKR',\n",
    " 'Polatlı': 'PLTL',\n",
    " 'Ankara': 'ANKR'}"
   ]
  },
  {
   "cell_type": "code",
   "execution_count": null,
   "id": "d26a4209-04e0-402c-84ca-3d610a8ce99d",
   "metadata": {},
   "outputs": [],
   "source": []
  },
  {
   "cell_type": "code",
   "execution_count": null,
   "id": "4217a15f-253c-4f50-88be-2c517aa5650a",
   "metadata": {},
   "outputs": [],
   "source": [
    "passenger = 'çocuk'"
   ]
  },
  {
   "cell_type": "code",
   "execution_count": null,
   "id": "8de79d39-8f26-426b-9047-f1fe5223820c",
   "metadata": {},
   "outputs": [],
   "source": [
    "passenger_types = {\n",
    "\"ADT\":[\"yolcu\", \"yetişkin\", \"kişi\"],\n",
    "\"CHD\":[\"çocuk\"],\n",
    "\"PET\":[\"hayvan\"],\n",
    "\"YNG\":[\"öğrenci\", \"genç\"],\n",
    "\"TCH\":[\"öğretmen\", \"öğretim görevlisi\"],\n",
    "\"PRS\":['basın', 'muhabir'],\n",
    "\"MLT\":['asker'],\n",
    "\"STF\":['personel', 'çalışan'],\n",
    "\"60Y\":['altmış yaş'],\n",
    "\"65Y\":['altmış beş yaş']}"
   ]
  },
  {
   "cell_type": "code",
   "execution_count": null,
   "id": "4565475d-6785-43c9-b41c-467269ffc01b",
   "metadata": {},
   "outputs": [],
   "source": [
    "passenger_code = [key for key, value in passenger_types.items() if passenger in value][0]\n",
    "passenger_code"
   ]
  },
  {
   "cell_type": "code",
   "execution_count": 23,
   "id": "9c056802-0c5c-4aed-a351-2e14d9018fec",
   "metadata": {},
   "outputs": [],
   "source": [
    "default_location = 'İstanbul'"
   ]
  },
  {
   "cell_type": "code",
   "execution_count": 58,
   "id": "cd8181ce-64b1-42bd-b4bf-ef9789062d7d",
   "metadata": {},
   "outputs": [],
   "source": [
    "class Extract(Apply, Format): # Process, Assemble, Format\n",
    "    \"\"\"\n",
    "    Extract information from the received request and return a url as a response\n",
    "    \"\"\"\n",
    "    def __init__(self):\n",
    "        \n",
    "        self.response_content = {}\n",
    "\n",
    "        self.response_content['exampleDeparture'] = {}\n",
    "        self.response_content['exampleArrival'] = {}\n",
    "        \n",
    "        self.response_content['exampleDeparture'][\"message\"] = \"Lütfen binmek istediğiniz durağı belirtin.\"\n",
    "        self.response_content['exampleDeparture'][\"stationList\"] = [\"\"]\n",
    "        \n",
    "        self.response_content['exampleArrival'][\"message\"] = \"Lütfen inmek istediğiniz durağı belirtin.\"\n",
    "        self.response_content['exampleArrival'][\"stationList\"] = [\"\"]\n",
    "        \n",
    "        self.response_content['url'] = \"\"\n",
    "        \n",
    "        # Retrieve stations and stations codes from yhtStations service\n",
    "        #stations = self.request_stations()\n",
    "        #self.station_codes = self.format_stations(stations)\n",
    "        #self.station_names = list(self.station_codes.keys())\n",
    "        \n",
    "        self.station_codes = station_codes\n",
    "        self.station_names = list(self.station_codes.keys())\n",
    "        \n",
    "    def extract_entities(self, document):\n",
    "        \"\"\"\n",
    "        Extract required entities like station, passenger or date information\n",
    "        \n",
    "        parameters\n",
    "        ----------\n",
    "        document:\n",
    "            A spacy object that could be used to retrieve entities from\n",
    "\n",
    "        \"\"\"\n",
    "        stations = []\n",
    "        passengers = []\n",
    "        month = []\n",
    "        number = []\n",
    "        weekdays = []\n",
    "        \n",
    "        for index, entity in enumerate(document.ents):\n",
    "            \n",
    "            if entity.label_ == 'DURAK': stations.append(str(entity)) \n",
    "\n",
    "            if entity.label_ == 'YOLCU': passengers.append(str(entity)) \n",
    "\n",
    "            if entity.label_ == 'SAYI': number.append(str(entity)) \n",
    "            \n",
    "            if entity.label_ == 'AY': month.append(str(entity)) \n",
    "            \n",
    "            if entity.label_ == 'GÜN': weekdays.append(str(entity)) \n",
    "\n",
    "\n",
    "        entities = [stations, passengers, number, month, weekdays]\n",
    "        return entities\n",
    "        \n",
    "    def extract_stations(self, entities, default_location):\n",
    "        \"\"\"\n",
    "        Extract station information and add into the dictionary\n",
    "        \n",
    "        parameters\n",
    "        ----------\n",
    "        entities: list of lists\n",
    "            Important information that is received from the input text\n",
    "        \n",
    "        default_location: str\n",
    "            GPS location of the user that is received during the request. It is utilized if user indicates a single station\n",
    "        \"\"\"\n",
    "        # Assign stations\n",
    "        stations = entities[0]\n",
    "\n",
    "        if len(stations) == 2: \n",
    "            \n",
    "            # Assign departure and arrival stations\n",
    "            departure, arrival = stations\n",
    "            \n",
    "            self.response_content['Kalkış'] = departure\n",
    "            self.response_content['Varış'] = arrival\n",
    "\n",
    "        if len(stations) == 1: \n",
    "            \n",
    "            # Assign default_location as the departure location that is retrieved from GPS\n",
    "            departure, arrival = default_location, stations[0]\n",
    "\n",
    "            self.response_content['Kalkış'] = departure\n",
    "            self.response_content['Varış'] = arrival\n",
    "\n",
    "        if len(stations) == 0: \n",
    "            \n",
    "            # Return possible stations if user does not input any station\n",
    "            self.response_content['exampleDeparture'][\"stationList\"] = self.station_names\n",
    "            self.response_content['exampleArrival'][\"stationList\"] = self.station_names\n",
    "        \n",
    "    def extract_dates(self, entities):\n",
    "        \"\"\"\n",
    "        Extract date information and add into the dictionary\n",
    "        \n",
    "        parameters\n",
    "        ----------\n",
    "        entities: list of lists\n",
    "            Important information that is received from the input text\n",
    "        \"\"\"\n",
    "        # Assign dates\n",
    "        dates = entities[3]\n",
    "        weekdays = entities[4]\n",
    "\n",
    "        if len(dates) == 2: \n",
    "\n",
    "            departure_date, returning_date  = dates\n",
    "            \n",
    "            self.response_content['KalkışTarihi'] = departure_date\n",
    "            self.response_content['DönüşTarihi'] = returning_date\n",
    "\n",
    "        if len(dates) == 1: \n",
    "            \n",
    "            departure_date = dates[0]\n",
    "\n",
    "            self.response_content['KalkışTarihi'] = departure_date\n",
    "            self.response_content['DönüşTarihi'] = ''\n",
    "\n",
    "        if len(dates) == 0: \n",
    "            \n",
    "            # Tomorrow's date\n",
    "            today = datetime.today()\n",
    "            departure_date = today + timedelta(days = 1)\n",
    "\n",
    "            self.response_content['KalkışTarihi'] = departure_date\n",
    "            self.response_content['DönüşTarihi'] = ''\n",
    "            \n",
    "        if len(weekdays) == 2:\n",
    "            \n",
    "            departure_date, returning_date  = weekdays\n",
    "            \n",
    "            self.response_content['KalkışTarihi'] = departure_date\n",
    "            self.response_content['DönüşTarihi'] = returning_date\n",
    "            \n",
    "        if len(weekdays) == 1:\n",
    "            \n",
    "            departure_date = weekdays[0]\n",
    "\n",
    "            self.response_content['KalkışTarihi'] = departure_date\n",
    "            self.response_content['DönüşTarihi'] = ''\n",
    "\n",
    "    \n",
    "    def extract_passengers(self, entities):\n",
    "        \"\"\"\n",
    "        Extract passenger information and add into the dictionary\n",
    "        \n",
    "        parameters\n",
    "        ----------\n",
    "        entities: list of lists\n",
    "            Important information that is received from the input text\n",
    "        \"\"\"\n",
    "        # Assign passengers\n",
    "        passengers = entities[2]\n",
    "        #passenger_type_dictionary = self.load_passenger_types()\n",
    "        \n",
    "        pass\n",
    "\n",
    "    def extract(self, request):\n",
    "        \"\"\"\n",
    "        Aggregate all necessary functions into a single function and receive the request\n",
    "        \n",
    "        parameters\n",
    "        ----------\n",
    "        request: dictionary\n",
    "            Receive request as JSON and parse it\n",
    "        \"\"\"\n",
    "        default_location = request['defaultLocation']\n",
    "        text = request['text']\n",
    "        \n",
    "        document = self.apply_ner_model(text)\n",
    "        \n",
    "        entities = self.extract_entities(document)\n",
    "\n",
    "        self.extract_stations(entities, default_location)\n",
    "        self.extract_dates(entities)\n",
    "        self.extract_passengers(entities)\n",
    "        \n",
    "        return self.response_content\n",
    "#        response = self.process_response()\n",
    "#        response = self.assemble_link(response)\n",
    "#        return response\n"
   ]
  },
  {
   "cell_type": "code",
   "execution_count": 59,
   "id": "8acd779c-5872-41c6-9fcb-15d803ac348f",
   "metadata": {},
   "outputs": [],
   "source": [
    "nlp = spacy.load('./model-best')"
   ]
  },
  {
   "cell_type": "code",
   "execution_count": 63,
   "id": "70ebb40f-6cd4-4915-bba2-79bfebc357b7",
   "metadata": {},
   "outputs": [],
   "source": [
    "text = '30 Haziran Ankara trenine 2 bilet'"
   ]
  },
  {
   "cell_type": "code",
   "execution_count": 64,
   "id": "8f5140f7-5395-4487-9dcd-6c4ba663b7ec",
   "metadata": {},
   "outputs": [],
   "source": [
    "request_ = {\"defaultLocation\": \"SGTC\", \n",
    "            \"text\": f\"{text}\"} "
   ]
  },
  {
   "cell_type": "code",
   "execution_count": 65,
   "id": "afac03a9-bfeb-4fe5-b282-1113c79a54ad",
   "metadata": {},
   "outputs": [
    {
     "data": {
      "text/plain": [
       "{'exampleDeparture': {'message': 'Lütfen binmek istediğiniz durağı belirtin.',\n",
       "  'stationList': ['']},\n",
       " 'exampleArrival': {'message': 'Lütfen inmek istediğiniz durağı belirtin.',\n",
       "  'stationList': ['']},\n",
       " 'url': '',\n",
       " 'Kalkış': 'SGTC',\n",
       " 'Varış': 'Ankara',\n",
       " 'KalkışTarihi': 'Haziran',\n",
       " 'DönüşTarihi': ''}"
      ]
     },
     "execution_count": 65,
     "metadata": {},
     "output_type": "execute_result"
    }
   ],
   "source": [
    "extract = Extract()\n",
    "extract.extract(request_)"
   ]
  },
  {
   "cell_type": "code",
   "execution_count": null,
   "id": "5eb8eccd-8047-4faf-a610-98cd532c96b4",
   "metadata": {},
   "outputs": [],
   "source": [
    "days = ['pazartesi', 'salı', 'çarşamba', 'perşembe', 'cuma', 'cumartesi', 'pazar']\n",
    "\n",
    "day_index = date.today().weekday()\n",
    "days[day_index]"
   ]
  },
  {
   "cell_type": "code",
   "execution_count": null,
   "id": "7bfe57eb-bdaf-4b62-9a0e-21655c73b168",
   "metadata": {},
   "outputs": [],
   "source": [
    "extract.extract_entities()"
   ]
  }
 ],
 "metadata": {
  "kernelspec": {
   "display_name": "Python 3 (ipykernel)",
   "language": "python",
   "name": "python3"
  },
  "language_info": {
   "codemirror_mode": {
    "name": "ipython",
    "version": 3
   },
   "file_extension": ".py",
   "mimetype": "text/x-python",
   "name": "python",
   "nbconvert_exporter": "python",
   "pygments_lexer": "ipython3",
   "version": "3.9.12"
  }
 },
 "nbformat": 4,
 "nbformat_minor": 5
}
